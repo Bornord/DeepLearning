{
  "nbformat": 4,
  "nbformat_minor": 0,
  "metadata": {
    "colab": {
      "name": "Untitled1.ipynb",
      "provenance": [],
      "collapsed_sections": [],
      "authorship_tag": "ABX9TyN1By+Pkh90ejLO+t7PikYu",
      "include_colab_link": true
    },
    "kernelspec": {
      "name": "python3",
      "display_name": "Python 3"
    },
    "language_info": {
      "name": "python"
    }
  },
  "cells": [
    {
      "cell_type": "markdown",
      "metadata": {
        "id": "view-in-github",
        "colab_type": "text"
      },
      "source": [
        "<a href=\"https://colab.research.google.com/github/Bornord/DeepLearning/blob/main/Projet_LeVrai2.0.ipynb\" target=\"_parent\"><img src=\"https://colab.research.google.com/assets/colab-badge.svg\" alt=\"Open In Colab\"/></a>"
      ]
    },
    {
      "cell_type": "markdown",
      "source": [
        "PROJET CLASSIFICATION"
      ],
      "metadata": {
        "id": "lg48JBWoBk3B"
      }
    },
    {
      "cell_type": "code",
      "source": [
        "!git clone https://github.com/Bornord/DeepLearning.git\n",
        "#path = \"./iam/tp3/\""
      ],
      "metadata": {
        "id": "EK5VpgDHBrba"
      },
      "execution_count": null,
      "outputs": []
    }
  ]
}