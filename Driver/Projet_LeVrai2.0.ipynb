{
  "cells": [
    {
      "cell_type": "markdown",
      "metadata": {
        "colab_type": "text",
        "id": "view-in-github"
      },
      "source": [
        "<a href=\"https://colab.research.google.com/github/Bornord/DeepLearning/blob/main/Projet_LeVrai2.0.ipynb\" target=\"_parent\"><img src=\"https://colab.research.google.com/assets/colab-badge.svg\" alt=\"Open In Colab\"/></a>"
      ]
    },
    {
      "cell_type": "markdown",
      "metadata": {
        "id": "lg48JBWoBk3B"
      },
      "source": [
        "PROJET CLASSIFICATION"
      ]
    },
    {
      "cell_type": "markdown",
      "metadata": {},
      "source": [
        "Fonction de chargement des données.\n",
        "Nous avons des images RGB-A donc des images à 4 dimensions. Ces images sont mélangées."
      ]
    },
    {
      "cell_type": "code",
      "execution_count": 56,
      "metadata": {},
      "outputs": [],
      "source": [
        "IMAGE_SIZE = 256\n",
        "CLASSES = ['akina','antoine','enguerran','skander','willem']\n",
        "\n",
        "import glob\n",
        "import PIL\n",
        "from PIL import Image\n",
        "import numpy as np\n",
        "import os\n",
        "\n",
        "def load_data(path, classes, image_size=64):\n",
        "\n",
        "  # Liste les fichiers présents dans le dossier path\n",
        "  tmp = 0\n",
        "  for name in classes : \n",
        "      folder = path + name + '-image-files/'\n",
        "      file_path =[folder+f for f in os.listdir(folder)]\n",
        "      tmp = tmp + len(file_path)\n",
        "\n",
        "\n",
        "  x = np.zeros((tmp, image_size, image_size, 4))\n",
        "  y = np.zeros((tmp, len(classes)))\n",
        "  for name in classes : \n",
        "      folder = path + name + '-image-files/'\n",
        "\n",
        "      file_path =[folder+f for f in os.listdir(folder)]\n",
        "      # Initialise les structures de données\n",
        "      nb_file = len(file_path)\n",
        "      for i in range(nb_file):\n",
        "      # Lecture de l'image\n",
        "          img = Image.open(file_path[i])\n",
        "          # Mise à l'échelle de l'image\n",
        "          img = img.resize((image_size,image_size), Image.ANTIALIAS)\n",
        "          # Remplissage de la variable x\n",
        "          x[classes.index(name)*nb_file + i] = np.asarray(img)\n",
        "\n",
        "          class_label = classes.index(name)\n",
        "      \n",
        "          y[classes.index(name)*nb_file + i] = [0]*len(classes)\n",
        "          y[classes.index(name)*nb_file + i][class_label] = 1\n",
        "\n",
        "  return x, y\n",
        "\n",
        "X_TRAIN, Y_TRAIN = load_data('../AudioCut/ImagesResultats/', CLASSES, image_size=IMAGE_SIZE)\n",
        "\n",
        "# Normalisation des entrées via une division par 255 des valeurs de pixel.\n",
        "X_TRAIN = X_TRAIN/255\n",
        "import random\n",
        "x_train_indexes = [i for i in range(len(X_TRAIN))]\n",
        "random.shuffle(x_train_indexes)\n",
        "\n",
        "X_VAL,Y_VAL = [X_TRAIN[i] for i in range((int) (len(X_TRAIN)/10))],[Y_TRAIN[i] for i in range((int) (len(Y_TRAIN)/10))]\n"
      ]
    },
    {
      "cell_type": "markdown",
      "metadata": {},
      "source": [
        "Création du 1er réseau : Première partie convoluée et deuxième partie en réseau classique. On utilise les fonctions sigmoid et relu pour la classification. Enfin, on utilise un softmax en sortie pour déterminer qui parle dans l'enregistrement. On entraîne ce modèle avec 10 epochs. En augmantant le nombre d'epochs, on observe un sur apprentissage."
      ]
    },
    {
      "cell_type": "code",
      "execution_count": 3,
      "metadata": {},
      "outputs": [
        {
          "name": "stdout",
          "output_type": "stream",
          "text": [
            "Model: \"sequential\"\n",
            "_________________________________________________________________\n",
            "Layer (type)                 Output Shape              Param #   \n",
            "=================================================================\n",
            "conv2d (Conv2D)              (None, 256, 256, 32)      1184      \n",
            "_________________________________________________________________\n",
            "max_pooling2d (MaxPooling2D) (None, 128, 128, 32)      0         \n",
            "_________________________________________________________________\n",
            "conv2d_1 (Conv2D)            (None, 128, 128, 64)      18496     \n",
            "_________________________________________________________________\n",
            "max_pooling2d_1 (MaxPooling2 (None, 64, 64, 64)        0         \n",
            "_________________________________________________________________\n",
            "conv2d_2 (Conv2D)            (None, 64, 64, 96)        55392     \n",
            "_________________________________________________________________\n",
            "max_pooling2d_2 (MaxPooling2 (None, 32, 32, 96)        0         \n",
            "_________________________________________________________________\n",
            "conv2d_3 (Conv2D)            (None, 32, 32, 128)       110720    \n",
            "_________________________________________________________________\n",
            "max_pooling2d_3 (MaxPooling2 (None, 16, 16, 128)       0         \n",
            "_________________________________________________________________\n",
            "flatten (Flatten)            (None, 32768)             0         \n",
            "_________________________________________________________________\n",
            "dense (Dense)                (None, 512)               16777728  \n",
            "_________________________________________________________________\n",
            "dense_1 (Dense)              (None, 256)               131328    \n",
            "_________________________________________________________________\n",
            "dense_2 (Dense)              (None, 128)               32896     \n",
            "_________________________________________________________________\n",
            "dense_3 (Dense)              (None, 64)                8256      \n",
            "_________________________________________________________________\n",
            "dense_4 (Dense)              (None, 5)                 325       \n",
            "_________________________________________________________________\n",
            "softmax (Softmax)            (None, 5)                 0         \n",
            "=================================================================\n",
            "Total params: 17,136,325\n",
            "Trainable params: 17,136,325\n",
            "Non-trainable params: 0\n",
            "_________________________________________________________________\n",
            "5\n",
            "Epoch 1/10\n",
            "16/16 [==============================] - 16s 966ms/step - loss: 0.4992 - accuracy: 0.2000 - val_loss: 0.4871 - val_accuracy: 0.1200\n",
            "Epoch 2/10\n",
            "16/16 [==============================] - 15s 949ms/step - loss: 0.4713 - accuracy: 0.5620 - val_loss: 0.4590 - val_accuracy: 0.9200\n",
            "Epoch 3/10\n",
            "16/16 [==============================] - 15s 951ms/step - loss: 0.4475 - accuracy: 0.7820 - val_loss: 0.4454 - val_accuracy: 0.9400\n",
            "Epoch 4/10\n",
            "16/16 [==============================] - 15s 952ms/step - loss: 0.4346 - accuracy: 0.9200 - val_loss: 0.4450 - val_accuracy: 0.9200\n",
            "Epoch 5/10\n",
            "16/16 [==============================] - 15s 948ms/step - loss: 0.4221 - accuracy: 0.9680 - val_loss: 0.4298 - val_accuracy: 0.9400\n",
            "Epoch 6/10\n",
            "16/16 [==============================] - 15s 953ms/step - loss: 0.4121 - accuracy: 0.9880 - val_loss: 0.4160 - val_accuracy: 1.0000\n",
            "Epoch 7/10\n",
            "16/16 [==============================] - 15s 947ms/step - loss: 0.4031 - accuracy: 1.0000 - val_loss: 0.4071 - val_accuracy: 1.0000\n",
            "Epoch 8/10\n",
            "16/16 [==============================] - 15s 957ms/step - loss: 0.3962 - accuracy: 1.0000 - val_loss: 0.4009 - val_accuracy: 1.0000\n",
            "Epoch 9/10\n",
            "16/16 [==============================] - 15s 954ms/step - loss: 0.3903 - accuracy: 1.0000 - val_loss: 0.3954 - val_accuracy: 1.0000\n",
            "Epoch 10/10\n",
            "16/16 [==============================] - 15s 955ms/step - loss: 0.3852 - accuracy: 1.0000 - val_loss: 0.3911 - val_accuracy: 1.0000\n"
          ]
        }
      ],
      "source": [
        "import tensorflow\n",
        "from tensorflow.keras.models import Sequential\n",
        "from tensorflow.keras.layers import Softmax\n",
        "from tensorflow.keras.layers import Dense\n",
        "from tensorflow.keras.layers import Conv2D\n",
        "from tensorflow.keras.layers import Input\n",
        "from tensorflow.keras.layers import MaxPooling2D\n",
        "from tensorflow.keras.layers import Flatten\n",
        "from tensorflow.keras.losses import SparseCategoricalCrossentropy\n",
        "from tensorflow.keras import optimizers\n",
        "model = Sequential()\n",
        "\n",
        "model.add(Input(X_TRAIN[0].shape))\n",
        "model.add(Conv2D(32, (3, 3), padding = 'same', activation = 'relu', strides = 1, input_shape = (64, 64, 3)))\n",
        "model.add(MaxPooling2D(pool_size=(2, 2), input_shape = (64, 64, 3), padding = 'same'))\n",
        "\n",
        "model.add(Conv2D(64, (3, 3), padding = 'same', activation = 'relu', strides = 1, input_shape = (64, 64, 3)))\n",
        "model.add(MaxPooling2D(pool_size=(2, 2), input_shape = (64, 64, 3), padding = 'same'))\n",
        "model.add(Conv2D(96, (3, 3), padding = 'same', activation = 'relu', strides = 1, input_shape = (64, 64, 3)))\n",
        "model.add(MaxPooling2D(pool_size=(2, 2), input_shape = (64, 64, 3), padding = 'same'))\n",
        "model.add(Conv2D(128, (3, 3), padding = 'same', activation = 'relu', strides = 1, input_shape = (64, 64, 3)))\n",
        "model.add(MaxPooling2D(pool_size=(2, 2), input_shape = (64, 64, 3), padding = 'same'))\n",
        "\n",
        "model.add(Flatten())    # \"Mise à plat\" (vectorisation) du tenseur pour permettre de la connecter à une couche dense  \n",
        "model.add(Dense(512, activation = 'relu', input_dim = 2)) \n",
        "model.add(Dense(256, activation = 'relu', input_dim = 2)) \n",
        "model.add(Dense(128, activation = 'sigmoid', input_dim = 2)) \n",
        "model.add(Dense(64, activation = 'sigmoid', input_dim = 2)) \n",
        "model.add(Dense(len(CLASSES),activation=\"sigmoid\"))   # Couche de sortie\n",
        "model.add(Softmax()) \n",
        "\n",
        "model.summary()\n",
        "\n",
        "model.compile(loss='binary_crossentropy',\n",
        "              optimizer=optimizers.Adam(learning_rate=3e-4),\n",
        "              metrics=['accuracy'])\n",
        "\n",
        "history = model.fit(np.array(X_TRAIN), np.array(Y_TRAIN), \n",
        "                    validation_data=(np.array(X_VAL), np.array(Y_VAL)),\n",
        "                    epochs=10,\n",
        "                    )\n"
      ]
    },
    {
      "cell_type": "markdown",
      "metadata": {},
      "source": [
        "Test : évaluation des performances avec le modèle précédemment construit"
      ]
    },
    {
      "cell_type": "code",
      "execution_count": 4,
      "metadata": {},
      "outputs": [
        {
          "name": "stdout",
          "output_type": "stream",
          "text": [
            "2/2 - 0s - loss: 0.3911 - accuracy: 1.0000\n"
          ]
        },
        {
          "data": {
            "text/plain": [
              "[0.3910813629627228, 1.0]"
            ]
          },
          "execution_count": 4,
          "metadata": {},
          "output_type": "execute_result"
        }
      ],
      "source": [
        "X_TEST,Y_TEST = [X_TRAIN[i] for i in range((int) (len(X_TRAIN)/10))],[Y_TRAIN[i] for i in range((int) (len(Y_TRAIN)/10))]\n",
        "\n",
        "model.evaluate(np.array(X_TEST),  np.array(Y_TEST), verbose=2)"
      ]
    },
    {
      "cell_type": "markdown",
      "metadata": {},
      "source": [
        "Affichage de l'historique d'entraînement"
      ]
    },
    {
      "cell_type": "code",
      "execution_count": 5,
      "metadata": {},
      "outputs": [
        {
          "data": {
            "image/png": "[encoded data removed]",
            "text/plain": [
              "<Figure size 432x288 with 1 Axes>"
            ]
          },
          "metadata": {
            "needs_background": "light"
          },
          "output_type": "display_data"
        },
        {
          "data": {
            "image/png": "[encoded data removed]",
            "text/plain": [
              "<Figure size 432x288 with 1 Axes>"
            ]
          },
          "metadata": {
            "needs_background": "light"
          },
          "output_type": "display_data"
        }
      ],
      "source": [
        "import matplotlib.pyplot as plt \n",
        "\n",
        "def plot_training_analysis(history):\n",
        "  acc = history.history['accuracy']\n",
        "  val_acc = history.history['val_accuracy']\n",
        "  loss = history.history['loss']\n",
        "  val_loss = history.history['val_loss']\n",
        "\n",
        "  epochs = range(len(loss))\n",
        "\n",
        "  plt.plot(epochs, acc, 'b', linestyle=\"--\",label='Training MAE')\n",
        "  plt.plot(epochs, val_acc, 'g', label='Validation MAE')\n",
        "  plt.title('Training and validation MAE')\n",
        "  plt.legend()\n",
        "\n",
        "  plt.figure()\n",
        "\n",
        "  plt.plot(epochs, loss, 'b', linestyle=\"--\",label='Training loss')\n",
        "  plt.plot(epochs, val_loss,'g', label='Validation loss')\n",
        "  plt.title('Training and validation loss')\n",
        "  plt.legend()\n",
        "\n",
        "  plt.show()\n",
        "\n",
        "plot_training_analysis(history)\n"
      ]
    },
    {
      "cell_type": "markdown",
      "metadata": {},
      "source": [
        "Test : fonction pour tester en direct avec un enregistrement de 5 secondes de la voix. décommenter la dernière ligne pour lancer le test."
      ]
    },
    {
      "cell_type": "code",
      "execution_count": 7,
      "metadata": {},
      "outputs": [],
      "source": [
        "from audioParsing import recordAudioToSpectogram\n",
        "def recordAndAnalyse(model,audio_path,image_path):\n",
        "    image = recordAudioToSpectogram(audio_path,image_path)\n",
        "    image = image.resize((IMAGE_SIZE,IMAGE_SIZE), Image.ANTIALIAS)\n",
        "    x = np.asarray(image)\n",
        "    X = np.array([x])\n",
        "    Y = model.predict(X)\n",
        "    print(Y)\n",
        "    plt.pie( [(int) (y*100) for y in Y[0]],labels=CLASSES)\n",
        "\n",
        "#recordAndAnalyse(model,\"./tmp.wav\",\"./tmp.png\")\n",
        "\n",
        "    "
      ]
    },
    {
      "cell_type": "markdown",
      "metadata": {},
      "source": [
        "Chargement des données de test en RGB-A. (lectures de 4 fables avec 3 versions pour chaque)"
      ]
    },
    {
      "cell_type": "code",
      "execution_count": 8,
      "metadata": {},
      "outputs": [],
      "source": [
        "def load_data(path, classes,subpath, image_size=64):\n",
        "  tmp = 0\n",
        "  for name in classes : \n",
        "      folder = path + name + subpath\n",
        "      file_path =[folder+f for f in os.listdir(folder)]\n",
        "      tmp = tmp + len(file_path)\n",
        "\n",
        "\n",
        "  x = np.zeros((tmp, image_size, image_size, 4))\n",
        "  y = np.zeros((tmp, len(classes)+1))\n",
        "  for name in classes : \n",
        "      folder = path + name + subpath\n",
        "\n",
        "      file_path =[folder+f for f in os.listdir(folder)]\n",
        "      nb_file = len(file_path)\n",
        "      for i in range(nb_file):\n",
        "          img = Image.open(file_path[i])\n",
        "          img = img.resize((image_size,image_size), Image.ANTIALIAS)\n",
        "          x[classes.index(name)*nb_file + i] = np.asarray(img)\n",
        "          class_label = classes.index(name)\n",
        "      \n",
        "          y[classes.index(name)*nb_file + i] = [0]*(len(classes)+1)\n",
        "          y[classes.index(name)*nb_file + i][class_label] = 1\n",
        "\n",
        "  return x, y\n",
        "\n",
        "X_TEST_CIGALE_DEFORMATION, Y_TEST_CIGALE_DEFORMATION = load_data('../AudioCut/ImagesResultats/', ['akina','antoine','enguerran','skander'],'-cigale-deformation-image-files/', image_size=IMAGE_SIZE)\n",
        "X_TEST_CIGALE_NORMAL, Y_TEST_CIGALE_NORMAL = load_data('../AudioCut/ImagesResultats/', ['akina','antoine','enguerran','skander'],'-cigale-normal-image-files/', image_size=IMAGE_SIZE)\n",
        "X_TEST_CIGALE_SON, Y_TEST_CIGALE_SON = load_data('../AudioCut/ImagesResultats/', ['akina','antoine','enguerran','skander'],'-cigale-son-image-files/', image_size=IMAGE_SIZE)\n",
        "\n",
        "X_TEST_HERON_DEFORMATION, Y_TEST_HERON_DEFORMATION = load_data('../AudioCut/ImagesResultats/', ['akina','antoine','enguerran','skander'],'-heron-deformation-image-files/', image_size=IMAGE_SIZE)\n",
        "X_TEST_HERON_NORMAL, Y_TEST_HERON_NORMAL = load_data('../AudioCut/ImagesResultats/', ['akina','antoine','enguerran','skander'],'-heron-normal-image-files/', image_size=IMAGE_SIZE)\n",
        "X_TEST_HERON_SON, Y_TEST_HERON_SON = load_data('../AudioCut/ImagesResultats/', ['akina','antoine','enguerran','skander'],'-heron-son-image-files/', image_size=IMAGE_SIZE)\n",
        "\n",
        "X_TEST_LABOUREUR_DEFORMATION, Y_TEST_LABOUREUR_DEFORMATION = load_data('../AudioCut/ImagesResultats/', ['akina','antoine','enguerran','skander'],'-laboureur-deformation-image-files/', image_size=IMAGE_SIZE)\n",
        "X_TEST_LABOUREUR_NORMAL, Y_TEST_LABOUREUR_NORMAL = load_data('../AudioCut/ImagesResultats/', ['akina','antoine','enguerran','skander'],'-laboureur-normal-image-files/', image_size=IMAGE_SIZE)\n",
        "X_TEST_LABOUREUR_SON, Y_TEST_LABOUREUR_SON = load_data('../AudioCut/ImagesResultats/', ['akina','antoine','enguerran','skander'],'-laboureur-son-image-files/', image_size=IMAGE_SIZE)\n",
        "\n",
        "X_TEST_RENARD_DEFORMATION, Y_TEST_RENARD_DEFORMATION = load_data('../AudioCut/ImagesResultats/', ['akina','antoine','enguerran','skander'],'-renard-deformation-image-files/', image_size=IMAGE_SIZE)\n",
        "X_TEST_RENARD_NORMAL, Y_TEST_RENARD_NORMAL = load_data('../AudioCut/ImagesResultats/', ['akina','antoine','enguerran','skander'],'-renard-normal-image-files/', image_size=IMAGE_SIZE)\n",
        "X_TEST_RENARD_SON, Y_TEST_RENARD_SON = load_data('../AudioCut/ImagesResultats/', ['akina','antoine','enguerran','skander'],'-renard-son-image-files/', image_size=IMAGE_SIZE)\n"
      ]
    },
    {
      "cell_type": "markdown",
      "metadata": {},
      "source": [
        "Test : évaluation des performances pour chaque catégore : normal, avec bruit, et déformation de la voix."
      ]
    },
    {
      "cell_type": "code",
      "execution_count": 9,
      "metadata": {},
      "outputs": [
        {
          "name": "stdout",
          "output_type": "stream",
          "text": [
            "cigale deformation\n",
            "2/2 - 0s - loss: 0.4627 - accuracy: 0.5000\n",
            "cigale normal\n",
            "2/2 - 0s - loss: 0.4609 - accuracy: 0.5000\n",
            "cigale bruit\n",
            "2/2 - 0s - loss: 0.4584 - accuracy: 0.5000\n",
            "heron deformation\n",
            "2/2 - 0s - loss: 0.4972 - accuracy: 0.2500\n",
            "heron normal\n",
            "2/2 - 0s - loss: 0.4619 - accuracy: 0.5000\n",
            "heron bruit\n",
            "2/2 - 0s - loss: 0.4789 - accuracy: 0.3250\n",
            "laboureur deformation\n",
            "2/2 - 0s - loss: 0.4635 - accuracy: 0.5000\n",
            "laboureur normal\n",
            "2/2 - 0s - loss: 0.4601 - accuracy: 0.5000\n",
            "laboureur bruit\n",
            "2/2 - 0s - loss: 0.4678 - accuracy: 0.3750\n",
            "renard deformation\n",
            "2/2 - 0s - loss: 0.4621 - accuracy: 0.5000\n",
            "renard normal\n",
            "2/2 - 0s - loss: 0.4597 - accuracy: 0.5000\n",
            "renard bruit\n",
            "2/2 - 0s - loss: 0.4594 - accuracy: 0.5000\n"
          ]
        },
        {
          "data": {
            "text/plain": [
              "[0.4594383239746094, 0.5]"
            ]
          },
          "execution_count": 9,
          "metadata": {},
          "output_type": "execute_result"
        }
      ],
      "source": [
        "print(\"cigale deformation\")\n",
        "model.evaluate(np.array(X_TEST_CIGALE_DEFORMATION),  np.array(Y_TEST_CIGALE_DEFORMATION), verbose=2)\n",
        "print(\"cigale normal\")\n",
        "model.evaluate(np.array(X_TEST_CIGALE_NORMAL),  np.array(Y_TEST_CIGALE_NORMAL), verbose=2)\n",
        "print(\"cigale bruit\")\n",
        "model.evaluate(np.array(X_TEST_CIGALE_SON),  np.array(Y_TEST_CIGALE_SON), verbose=2)\n",
        "\n",
        "print(\"heron deformation\")\n",
        "model.evaluate(np.array(X_TEST_HERON_DEFORMATION),  np.array(Y_TEST_HERON_DEFORMATION), verbose=2)\n",
        "print(\"heron normal\")\n",
        "model.evaluate(np.array(X_TEST_HERON_NORMAL),  np.array(Y_TEST_HERON_NORMAL), verbose=2)\n",
        "print(\"heron bruit\")\n",
        "model.evaluate(np.array(X_TEST_HERON_SON),  np.array(Y_TEST_HERON_SON), verbose=2)\n",
        "\n",
        "print(\"laboureur deformation\")\n",
        "model.evaluate(np.array(X_TEST_LABOUREUR_DEFORMATION),  np.array(Y_TEST_LABOUREUR_DEFORMATION), verbose=2)\n",
        "print(\"laboureur normal\")\n",
        "model.evaluate(np.array(X_TEST_LABOUREUR_NORMAL),  np.array(Y_TEST_LABOUREUR_NORMAL), verbose=2)\n",
        "print(\"laboureur bruit\")\n",
        "model.evaluate(np.array(X_TEST_LABOUREUR_SON),  np.array(Y_TEST_LABOUREUR_SON), verbose=2)\n",
        "\n",
        "print(\"renard deformation\")\n",
        "model.evaluate(np.array(X_TEST_RENARD_DEFORMATION),  np.array(Y_TEST_RENARD_DEFORMATION), verbose=2)\n",
        "print(\"renard normal\")\n",
        "model.evaluate(np.array(X_TEST_RENARD_NORMAL),  np.array(Y_TEST_RENARD_NORMAL), verbose=2)\n",
        "print(\"renard bruit\")\n",
        "model.evaluate(np.array(X_TEST_RENARD_SON),  np.array(Y_TEST_RENARD_SON), verbose=2)\n"
      ]
    },
    {
      "cell_type": "markdown",
      "metadata": {},
      "source": [
        "Augmentation des données : Entraînement du modèle avec les données des enregistrements déformés et bruités."
      ]
    },
    {
      "cell_type": "code",
      "execution_count": 10,
      "metadata": {},
      "outputs": [
        {
          "name": "stdout",
          "output_type": "stream",
          "text": [
            "Epoch 1/10\n",
            "2/2 [==============================] - 1s 366ms/step - loss: 1.1596 - accuracy: 0.5000 - val_loss: 1.0345 - val_accuracy: 0.7500\n",
            "Epoch 2/10\n",
            "2/2 [==============================] - 1s 329ms/step - loss: 1.1206 - accuracy: 0.4000 - val_loss: 1.2799 - val_accuracy: 0.2500\n",
            "Epoch 3/10\n",
            "2/2 [==============================] - 1s 314ms/step - loss: 1.1633 - accuracy: 0.3750 - val_loss: 1.2516 - val_accuracy: 0.5000\n",
            "Epoch 4/10\n",
            "2/2 [==============================] - 1s 329ms/step - loss: 1.2071 - accuracy: 0.4000 - val_loss: 1.4354 - val_accuracy: 0.0000e+00\n",
            "Epoch 5/10\n",
            "2/2 [==============================] - 1s 323ms/step - loss: 1.2113 - accuracy: 0.2500 - val_loss: 1.4618 - val_accuracy: 0.0000e+00\n",
            "Epoch 6/10\n",
            "2/2 [==============================] - 1s 334ms/step - loss: 1.2289 - accuracy: 0.2500 - val_loss: 1.4196 - val_accuracy: 0.0000e+00\n",
            "Epoch 7/10\n",
            "2/2 [==============================] - 1s 330ms/step - loss: 1.2117 - accuracy: 0.2500 - val_loss: 1.3572 - val_accuracy: 0.0000e+00\n",
            "Epoch 8/10\n",
            "2/2 [==============================] - 1s 344ms/step - loss: 1.1906 - accuracy: 0.2500 - val_loss: 1.3136 - val_accuracy: 0.0000e+00\n",
            "Epoch 9/10\n",
            "2/2 [==============================] - 1s 330ms/step - loss: 1.1776 - accuracy: 0.2500 - val_loss: 1.2834 - val_accuracy: 0.0000e+00\n",
            "Epoch 10/10\n",
            "2/2 [==============================] - 1s 328ms/step - loss: 1.1797 - accuracy: 0.2500 - val_loss: 1.2391 - val_accuracy: 0.0000e+00\n"
          ]
        }
      ],
      "source": [
        "X_TRAIN_AUGMENTED = X_TEST_CIGALE_NORMAL + X_TEST_HERON_NORMAL + X_TEST_LABOUREUR_NORMAL + X_TEST_RENARD_NORMAL\n",
        "Y_TRAIN_AUGMENTED = Y_TEST_CIGALE_NORMAL + Y_TEST_HERON_NORMAL + Y_TEST_LABOUREUR_NORMAL + Y_TEST_RENARD_NORMAL\n",
        "\n",
        "X_VAL_AUGMENTED,Y_VAL_AUGMENTED = [X_TRAIN_AUGMENTED[i] for i in range((int) (len(X_TRAIN_AUGMENTED)/10))],[Y_TRAIN_AUGMENTED[i] for i in range((int) (len(Y_TRAIN_AUGMENTED)/10))]\n",
        "\n",
        "history = model.fit(np.array(X_TRAIN_AUGMENTED), np.array(Y_TRAIN_AUGMENTED), \n",
        "                    validation_data=(np.array(X_VAL_AUGMENTED), np.array(Y_VAL_AUGMENTED)),\n",
        "                    epochs=10,\n",
        "                    )\n"
      ]
    },
    {
      "cell_type": "markdown",
      "metadata": {},
      "source": [
        "Test : évaluation des performances après augmentation des données."
      ]
    },
    {
      "cell_type": "code",
      "execution_count": 11,
      "metadata": {},
      "outputs": [
        {
          "name": "stdout",
          "output_type": "stream",
          "text": [
            "cigale deformation\n",
            "2/2 - 0s - loss: 0.4680 - accuracy: 0.2750\n",
            "cigale normal\n",
            "2/2 - 0s - loss: 0.4653 - accuracy: 0.2500\n",
            "cigale bruit\n",
            "2/2 - 0s - loss: 0.4654 - accuracy: 0.4500\n",
            "heron deformation\n",
            "2/2 - 0s - loss: 0.4639 - accuracy: 0.3250\n",
            "heron normal\n",
            "2/2 - 0s - loss: 0.4699 - accuracy: 0.1750\n",
            "heron bruit\n",
            "2/2 - 0s - loss: 0.4698 - accuracy: 0.3750\n",
            "laboureur deformation\n",
            "2/2 - 0s - loss: 0.4650 - accuracy: 0.2750\n",
            "laboureur normal\n",
            "2/2 - 0s - loss: 0.4654 - accuracy: 0.2250\n",
            "laboureur bruit\n",
            "2/2 - 0s - loss: 0.4650 - accuracy: 0.3500\n",
            "renard deformation\n",
            "2/2 - 0s - loss: 0.4661 - accuracy: 0.3500\n",
            "renard normal\n",
            "2/2 - 0s - loss: 0.4625 - accuracy: 0.4000\n",
            "renard bruit\n",
            "2/2 - 0s - loss: 0.4641 - accuracy: 0.3750\n"
          ]
        },
        {
          "data": {
            "text/plain": [
              "[0.46412864327430725, 0.375]"
            ]
          },
          "execution_count": 11,
          "metadata": {},
          "output_type": "execute_result"
        }
      ],
      "source": [
        "print(\"cigale deformation\")\n",
        "model.evaluate(np.array(X_TEST_CIGALE_DEFORMATION),  np.array(Y_TEST_CIGALE_DEFORMATION), verbose=2)\n",
        "print(\"cigale normal\")\n",
        "model.evaluate(np.array(X_TEST_CIGALE_NORMAL),  np.array(Y_TEST_CIGALE_NORMAL), verbose=2)\n",
        "print(\"cigale bruit\")\n",
        "model.evaluate(np.array(X_TEST_CIGALE_SON),  np.array(Y_TEST_CIGALE_SON), verbose=2)\n",
        "\n",
        "print(\"heron deformation\")\n",
        "model.evaluate(np.array(X_TEST_HERON_DEFORMATION),  np.array(Y_TEST_HERON_DEFORMATION), verbose=2)\n",
        "print(\"heron normal\")\n",
        "model.evaluate(np.array(X_TEST_HERON_NORMAL),  np.array(Y_TEST_HERON_NORMAL), verbose=2)\n",
        "print(\"heron bruit\")\n",
        "model.evaluate(np.array(X_TEST_HERON_SON),  np.array(Y_TEST_HERON_SON), verbose=2)\n",
        "\n",
        "print(\"laboureur deformation\")\n",
        "model.evaluate(np.array(X_TEST_LABOUREUR_DEFORMATION),  np.array(Y_TEST_LABOUREUR_DEFORMATION), verbose=2)\n",
        "print(\"laboureur normal\")\n",
        "model.evaluate(np.array(X_TEST_LABOUREUR_NORMAL),  np.array(Y_TEST_LABOUREUR_NORMAL), verbose=2)\n",
        "print(\"laboureur bruit\")\n",
        "model.evaluate(np.array(X_TEST_LABOUREUR_SON),  np.array(Y_TEST_LABOUREUR_SON), verbose=2)\n",
        "\n",
        "print(\"renard deformation\")\n",
        "model.evaluate(np.array(X_TEST_RENARD_DEFORMATION),  np.array(Y_TEST_RENARD_DEFORMATION), verbose=2)\n",
        "print(\"renard normal\")\n",
        "model.evaluate(np.array(X_TEST_RENARD_NORMAL),  np.array(Y_TEST_RENARD_NORMAL), verbose=2)\n",
        "print(\"renard bruit\")\n",
        "model.evaluate(np.array(X_TEST_RENARD_SON),  np.array(Y_TEST_RENARD_SON), verbose=2)"
      ]
    },
    {
      "cell_type": "markdown",
      "metadata": {},
      "source": [
        "# Transfert d'apprentissage\n",
        "\n"
      ]
    },
    {
      "cell_type": "markdown",
      "metadata": {},
      "source": [
        "Transfert d'apprentissage avec ResNet afin de récupérer les données résiduelles de l'image. Afin d'utiliser nos images à 4 dimensions, on augmente la taille des images acceptée par le réseau ResNet ."
      ]
    },
    {
      "cell_type": "code",
      "execution_count": 32,
      "metadata": {},
      "outputs": [],
      "source": [
        "from tensorflow.keras.applications import VGG16\n",
        "from tensorflow.keras.applications import ResNet50V2\n",
        "from tensorflow.keras.applications import MobileNetV2\n",
        "from tensorflow.keras.models import Model\n",
        "\n",
        "def multify_weights(kernel, out_channels):\n",
        "  mean_1d = np.mean(kernel, axis=-2).reshape(kernel[:,:,-1:,:].shape)\n",
        "  tiled = np.tile(mean_1d, (out_channels, 1))\n",
        "  return(tiled)\n",
        "\n",
        "\n",
        "def weightify(model_orig, custom_model, layer_modify):\n",
        "  layer_to_modify = [layer_modify]\n",
        "\n",
        "  conf = custom_model.get_config()\n",
        "  layer_names = [conf['layers'][x]['name'] for x in range(len(conf['layers']))]\n",
        "\n",
        "  for layer in model_orig.layers:\n",
        "    if layer.name in layer_names:\n",
        "      if layer.get_weights() != []:\n",
        "        target_layer = custom_model.get_layer(layer.name)\n",
        "\n",
        "        if layer.name in layer_to_modify:    \n",
        "          kernels = layer.get_weights()[0]\n",
        "          biases  = layer.get_weights()[1]\n",
        "\n",
        "          kernels_extra_channel = np.concatenate((kernels,\n",
        "                                                  multify_weights(kernels, 4 - 3)),\n",
        "                                                  axis=-2)\n",
        "                                                  \n",
        "          target_layer.set_weights([kernels_extra_channel, biases])\n",
        "          target_layer.trainable = False\n",
        "\n",
        "        else:\n",
        "          target_layer.set_weights(layer.get_weights())\n",
        "          target_layer.trainable = False\n",
        "\n",
        "\n",
        "resnet50 = ResNet50V2(weights='imagenet', include_top=False)\n",
        "\n",
        "config = resnet50.get_config()\n",
        "config[\"layers\"][0][\"config\"][\"batch_input_shape\"] = (None, IMAGE_SIZE, IMAGE_SIZE, 4)\n",
        "config[\"layers\"][2][\"config\"][\"strides\"] = (1, 1)\n",
        "\n",
        "\n",
        "resnet_custom = Model.from_config(config)\n",
        "modify_name = config[\"layers\"][2][\"config\"][\"name\"]\n",
        "\n",
        "\n",
        "weightify(resnet50, resnet_custom, modify_name)\n",
        "\n",
        "\n"
      ]
    },
    {
      "cell_type": "markdown",
      "metadata": {},
      "source": [
        "On ajoute à un réseau pré existant des couches afin d'adapter le modèle à notre problème."
      ]
    },
    {
      "cell_type": "code",
      "execution_count": 33,
      "metadata": {},
      "outputs": [],
      "source": [
        "model = Sequential()\n",
        "model.add(resnet_custom)\n",
        "model.add(Flatten())\n",
        "model.add(Dense(256, activation='relu'))\n",
        "model.add(Dense(len(CLASSES),activation=\"sigmoid\"))   # Couche de sortie\n",
        "model.add(Softmax()) \n"
      ]
    },
    {
      "cell_type": "code",
      "execution_count": 34,
      "metadata": {},
      "outputs": [
        {
          "name": "stdout",
          "output_type": "stream",
          "text": [
            "Epoch 1/10\n",
            "16/16 [==============================] - 77s 5s/step - loss: 0.4517 - accuracy: 0.3620 - val_loss: 0.3800 - val_accuracy: 0.9200\n",
            "Epoch 2/10\n",
            "16/16 [==============================] - 74s 5s/step - loss: 0.4475 - accuracy: 0.3900 - val_loss: 0.3800 - val_accuracy: 1.0000\n",
            "Epoch 3/10\n",
            "16/16 [==============================] - 74s 5s/step - loss: 0.4466 - accuracy: 0.3960 - val_loss: 0.3804 - val_accuracy: 0.9600\n",
            "Epoch 4/10\n",
            "16/16 [==============================] - 73s 5s/step - loss: 0.4469 - accuracy: 0.4000 - val_loss: 0.3800 - val_accuracy: 1.0000\n",
            "Epoch 5/10\n",
            "16/16 [==============================] - 75s 5s/step - loss: 0.4465 - accuracy: 0.3980 - val_loss: 0.3800 - val_accuracy: 0.9800\n",
            "Epoch 6/10\n",
            "16/16 [==============================] - 75s 5s/step - loss: 0.4469 - accuracy: 0.3980 - val_loss: 0.3800 - val_accuracy: 1.0000\n",
            "Epoch 7/10\n",
            "16/16 [==============================] - 75s 5s/step - loss: 0.4469 - accuracy: 0.3980 - val_loss: 0.3800 - val_accuracy: 1.0000\n",
            "Epoch 8/10\n",
            "16/16 [==============================] - 74s 5s/step - loss: 0.4465 - accuracy: 0.4000 - val_loss: 0.3800 - val_accuracy: 1.0000\n",
            "Epoch 9/10\n",
            "16/16 [==============================] - 75s 5s/step - loss: 0.4465 - accuracy: 0.4000 - val_loss: 0.3800 - val_accuracy: 1.0000\n",
            "Epoch 10/10\n",
            "16/16 [==============================] - 75s 5s/step - loss: 0.4465 - accuracy: 0.4000 - val_loss: 0.3800 - val_accuracy: 1.0000\n"
          ]
        }
      ],
      "source": [
        "model.compile(loss='binary_crossentropy',\n",
        "              optimizer=optimizers.Adam(learning_rate=3e-4),\n",
        "              metrics=['accuracy'])\n",
        "\n",
        "history = model.fit(np.array(X_TRAIN), np.array(Y_TRAIN), \n",
        "                    validation_data=(np.array(X_VAL), np.array(Y_VAL)),\n",
        "                    epochs=10,\n",
        "                    )"
      ]
    },
    {
      "cell_type": "markdown",
      "metadata": {},
      "source": [
        "Affichage de l'historique"
      ]
    },
    {
      "cell_type": "code",
      "execution_count": 35,
      "metadata": {},
      "outputs": [
        {
          "data": {
            "image/png": "[encoded data removed]",
            "text/plain": [
              "<Figure size 432x288 with 1 Axes>"
            ]
          },
          "metadata": {
            "needs_background": "light"
          },
          "output_type": "display_data"
        },
        {
          "data": {
            "image/png": "[encoded data removed]",
            "text/plain": [
              "<Figure size 432x288 with 1 Axes>"
            ]
          },
          "metadata": {
            "needs_background": "light"
          },
          "output_type": "display_data"
        }
      ],
      "source": [
        "plot_training_analysis(history)"
      ]
    },
    {
      "cell_type": "markdown",
      "metadata": {},
      "source": [
        "Test : évaluation des performances"
      ]
    },
    {
      "cell_type": "code",
      "execution_count": 36,
      "metadata": {},
      "outputs": [
        {
          "name": "stdout",
          "output_type": "stream",
          "text": [
            "2/2 - 6s - loss: 0.3800 - accuracy: 1.0000\n"
          ]
        },
        {
          "data": {
            "text/plain": [
              "[0.3799959123134613, 1.0]"
            ]
          },
          "execution_count": 36,
          "metadata": {},
          "output_type": "execute_result"
        }
      ],
      "source": [
        "X_TEST,Y_TEST = [X_TRAIN[i] for i in range((int) (len(X_TRAIN)/10))],[Y_TRAIN[i] for i in range((int) (len(Y_TRAIN)/10))]\n",
        "\n",
        "model.evaluate(np.array(X_TEST),  np.array(Y_TEST), verbose=2)"
      ]
    },
    {
      "cell_type": "markdown",
      "metadata": {},
      "source": [
        "Chargement des données en RGB afin d'avoir des images en 3 dimensions. (On perd le paramètre de transparence des images) Ainsi on pourra tester le transfert learning avec d'autres réseaux."
      ]
    },
    {
      "cell_type": "code",
      "execution_count": 50,
      "metadata": {},
      "outputs": [],
      "source": [
        "def load_data_3(path, classes, image_size=64):\n",
        "\n",
        "  tmp = 0\n",
        "  for name in classes : \n",
        "      folder = path + name + '-image-files/'\n",
        "      file_path =[folder+f for f in os.listdir(folder)]\n",
        "      tmp = tmp + len(file_path)\n",
        "\n",
        "\n",
        "  x = np.zeros((tmp, image_size, image_size, 3))\n",
        "  y = np.zeros((tmp, len(classes)))\n",
        "  for name in classes : \n",
        "      folder = path + name + '-image-files/'\n",
        "\n",
        "      file_path =[folder+f for f in os.listdir(folder)]\n",
        "      nb_file = len(file_path)\n",
        "      for i in range(nb_file):\n",
        "          img = Image.open(file_path[i])\n",
        "          # Mise à l'échelle de l'image\n",
        "          img = img.resize((image_size,image_size), Image.ANTIALIAS)\n",
        "          img = np.asarray(img)[:, :, :3]\n",
        "          # Remplissage de la variable x\n",
        "          x[classes.index(name)*nb_file + i] = np.asarray(img)\n",
        "\n",
        "          class_label = classes.index(name)\n",
        "      \n",
        "          y[classes.index(name)*nb_file + i] = [0]*len(classes)\n",
        "          y[classes.index(name)*nb_file + i][class_label] = 1\n",
        "\n",
        "  return x, y\n",
        "\n",
        "X_TRAIN, Y_TRAIN = load_data_3('../AudioCut/ImagesResultats/', CLASSES, image_size=IMAGE_SIZE)\n",
        "\n",
        "# Normalisation des entrées via une division par 255 des valeurs de pixel.\n",
        "X_TRAIN = X_TRAIN/255\n",
        "import random\n",
        "x_train_indexes = [i for i in range(len(X_TRAIN))]\n",
        "random.shuffle(x_train_indexes)\n",
        "\n",
        "X_TRAIN, Y_TRAIN = [X_TRAIN[i] for i in x_train_indexes],[Y_TRAIN[i] for i in x_train_indexes]\n",
        "X_VAL,Y_VAL = [X_TRAIN[i] for i in range((int) (len(X_TRAIN)/10))],[Y_TRAIN[i] for i in range((int) (len(Y_TRAIN)/10))]\n"
      ]
    },
    {
      "cell_type": "code",
      "execution_count": 51,
      "metadata": {},
      "outputs": [
        {
          "name": "stdout",
          "output_type": "stream",
          "text": [
            "Model: \"sequential_2\"\n",
            "_________________________________________________________________\n",
            "Layer (type)                 Output Shape              Param #   \n",
            "=================================================================\n",
            "conv2d_4 (Conv2D)            (None, 256, 256, 32)      896       \n",
            "_________________________________________________________________\n",
            "max_pooling2d_10 (MaxPooling (None, 128, 128, 32)      0         \n",
            "_________________________________________________________________\n",
            "conv2d_5 (Conv2D)            (None, 128, 128, 64)      18496     \n",
            "_________________________________________________________________\n",
            "max_pooling2d_11 (MaxPooling (None, 64, 64, 64)        0         \n",
            "_________________________________________________________________\n",
            "conv2d_6 (Conv2D)            (None, 64, 64, 96)        55392     \n",
            "_________________________________________________________________\n",
            "max_pooling2d_12 (MaxPooling (None, 32, 32, 96)        0         \n",
            "_________________________________________________________________\n",
            "conv2d_7 (Conv2D)            (None, 32, 32, 128)       110720    \n",
            "_________________________________________________________________\n",
            "max_pooling2d_13 (MaxPooling (None, 16, 16, 128)       0         \n",
            "_________________________________________________________________\n",
            "flatten_2 (Flatten)          (None, 32768)             0         \n",
            "_________________________________________________________________\n",
            "dense_7 (Dense)              (None, 512)               16777728  \n",
            "_________________________________________________________________\n",
            "dense_8 (Dense)              (None, 256)               131328    \n",
            "_________________________________________________________________\n",
            "dense_9 (Dense)              (None, 128)               32896     \n",
            "_________________________________________________________________\n",
            "dense_10 (Dense)             (None, 64)                8256      \n",
            "_________________________________________________________________\n",
            "dense_11 (Dense)             (None, 5)                 325       \n",
            "_________________________________________________________________\n",
            "softmax_2 (Softmax)          (None, 5)                 0         \n",
            "=================================================================\n",
            "Total params: 17,136,037\n",
            "Trainable params: 17,136,037\n",
            "Non-trainable params: 0\n",
            "_________________________________________________________________\n",
            "Epoch 1/10\n",
            "16/16 [==============================] - 16s 985ms/step - loss: 0.4998 - accuracy: 0.2300 - val_loss: 0.4972 - val_accuracy: 0.2400\n",
            "Epoch 2/10\n",
            "16/16 [==============================] - 16s 986ms/step - loss: 0.4715 - accuracy: 0.6080 - val_loss: 0.4668 - val_accuracy: 0.6600\n",
            "Epoch 3/10\n",
            "16/16 [==============================] - 16s 986ms/step - loss: 0.4461 - accuracy: 0.8540 - val_loss: 0.4485 - val_accuracy: 0.8200\n",
            "Epoch 4/10\n",
            "16/16 [==============================] - 16s 970ms/step - loss: 0.4306 - accuracy: 0.9440 - val_loss: 0.4345 - val_accuracy: 0.8800\n",
            "Epoch 5/10\n",
            "16/16 [==============================] - 15s 944ms/step - loss: 0.4185 - accuracy: 0.9620 - val_loss: 0.4186 - val_accuracy: 1.0000\n",
            "Epoch 6/10\n",
            "16/16 [==============================] - 15s 947ms/step - loss: 0.4066 - accuracy: 0.9960 - val_loss: 0.4056 - val_accuracy: 1.0000\n",
            "Epoch 7/10\n",
            "16/16 [==============================] - 15s 943ms/step - loss: 0.3975 - accuracy: 0.9980 - val_loss: 0.3973 - val_accuracy: 1.0000\n",
            "Epoch 8/10\n",
            "16/16 [==============================] - 15s 948ms/step - loss: 0.3899 - accuracy: 1.0000 - val_loss: 0.3898 - val_accuracy: 1.0000\n",
            "Epoch 9/10\n",
            "16/16 [==============================] - 15s 967ms/step - loss: 0.3837 - accuracy: 0.9980 - val_loss: 0.3837 - val_accuracy: 1.0000\n",
            "Epoch 10/10\n",
            "16/16 [==============================] - 15s 952ms/step - loss: 0.3789 - accuracy: 1.0000 - val_loss: 0.3788 - val_accuracy: 1.0000\n"
          ]
        }
      ],
      "source": [
        "model = Sequential()\n",
        "# A COMPLETER\"\n",
        "\n",
        "model.add(Input(X_TRAIN[0].shape))\n",
        "model.add(Conv2D(32, (3, 3), padding = 'same', activation = 'relu', strides = 1, input_shape = (64, 64, 3)))\n",
        "model.add(MaxPooling2D(pool_size=(2, 2), input_shape = (64, 64, 3), padding = 'same'))\n",
        "\n",
        "model.add(Conv2D(64, (3, 3), padding = 'same', activation = 'relu', strides = 1, input_shape = (64, 64, 3)))\n",
        "model.add(MaxPooling2D(pool_size=(2, 2), input_shape = (64, 64, 3), padding = 'same'))\n",
        "model.add(Conv2D(96, (3, 3), padding = 'same', activation = 'relu', strides = 1, input_shape = (64, 64, 3)))\n",
        "model.add(MaxPooling2D(pool_size=(2, 2), input_shape = (64, 64, 3), padding = 'same'))\n",
        "model.add(Conv2D(128, (3, 3), padding = 'same', activation = 'relu', strides = 1, input_shape = (64, 64, 3)))\n",
        "model.add(MaxPooling2D(pool_size=(2, 2), input_shape = (64, 64, 3), padding = 'same'))\n",
        "\n",
        "model.add(Flatten())  \n",
        "model.add(Dense(512, activation = 'relu', input_dim = 2)) \n",
        "model.add(Dense(256, activation = 'relu', input_dim = 2)) \n",
        "model.add(Dense(128, activation = 'sigmoid', input_dim = 2)) \n",
        "model.add(Dense(64, activation = 'sigmoid', input_dim = 2)) \n",
        "model.add(Dense(len(CLASSES),activation=\"sigmoid\"))   # Couche de sortie\n",
        "model.add(Softmax()) \n",
        "\n",
        "model.summary()\n",
        "\n",
        "model.compile(loss='binary_crossentropy',\n",
        "              optimizer=optimizers.Adam(learning_rate=3e-4),\n",
        "              metrics=['accuracy'])\n",
        "\n",
        "history = model.fit(np.array(X_TRAIN), np.array(Y_TRAIN), \n",
        "                    validation_data=(np.array(X_VAL), np.array(Y_VAL)),\n",
        "                    epochs=10,\n",
        "                    )"
      ]
    },
    {
      "cell_type": "code",
      "execution_count": 52,
      "metadata": {},
      "outputs": [
        {
          "data": {
            "image/png": "[encoded data removed]",
            "text/plain": [
              "<Figure size 432x288 with 1 Axes>"
            ]
          },
          "metadata": {
            "needs_background": "light"
          },
          "output_type": "display_data"
        },
        {
          "data": {
            "image/png": "[encoded data removed]",
            "text/plain": [
              "<Figure size 432x288 with 1 Axes>"
            ]
          },
          "metadata": {
            "needs_background": "light"
          },
          "output_type": "display_data"
        },
        {
          "name": "stdout",
          "output_type": "stream",
          "text": [
            "2/2 - 0s - loss: 0.3788 - accuracy: 1.0000\n"
          ]
        },
        {
          "data": {
            "text/plain": [
              "[0.3787514567375183, 1.0]"
            ]
          },
          "execution_count": 52,
          "metadata": {},
          "output_type": "execute_result"
        }
      ],
      "source": [
        "plot_training_analysis(history)\n",
        "X_TEST,Y_TEST = [X_TRAIN[i] for i in range((int) (len(X_TRAIN)/10))],[Y_TRAIN[i] for i in range((int) (len(Y_TRAIN)/10))]\n",
        "\n",
        "model.evaluate(np.array(X_TEST),  np.array(Y_TEST), verbose=2)"
      ]
    },
    {
      "cell_type": "markdown",
      "metadata": {},
      "source": [
        "Transfert d'apprentissage avec le réseau VGG16"
      ]
    },
    {
      "cell_type": "code",
      "execution_count": 53,
      "metadata": {},
      "outputs": [
        {
          "name": "stdout",
          "output_type": "stream",
          "text": [
            "Epoch 1/10\n",
            "16/16 [==============================] - 151s 9s/step - loss: 0.5216 - accuracy: 0.2140 - val_loss: 0.5118 - val_accuracy: 0.2600\n",
            "Epoch 2/10\n",
            "16/16 [==============================] - 152s 10s/step - loss: 0.5263 - accuracy: 0.2000 - val_loss: 0.5118 - val_accuracy: 0.2600\n",
            "Epoch 3/10\n",
            "16/16 [==============================] - 155s 10s/step - loss: 0.5263 - accuracy: 0.2000 - val_loss: 0.5118 - val_accuracy: 0.2600\n",
            "Epoch 4/10\n",
            "16/16 [==============================] - 152s 10s/step - loss: 0.5263 - accuracy: 0.2000 - val_loss: 0.5118 - val_accuracy: 0.2600\n",
            "Epoch 5/10\n",
            "16/16 [==============================] - 151s 9s/step - loss: 0.5263 - accuracy: 0.2000 - val_loss: 0.5118 - val_accuracy: 0.2600\n",
            "Epoch 6/10\n",
            "16/16 [==============================] - 156s 10s/step - loss: 0.5263 - accuracy: 0.2000 - val_loss: 0.5118 - val_accuracy: 0.2600\n",
            "Epoch 7/10\n",
            "16/16 [==============================] - 156s 10s/step - loss: 0.5263 - accuracy: 0.2000 - val_loss: 0.5118 - val_accuracy: 0.2600\n",
            "Epoch 8/10\n",
            "16/16 [==============================] - 156s 10s/step - loss: 0.5263 - accuracy: 0.2000 - val_loss: 0.5118 - val_accuracy: 0.2600\n",
            "Epoch 9/10\n",
            "16/16 [==============================] - 150s 9s/step - loss: 0.5263 - accuracy: 0.2000 - val_loss: 0.5118 - val_accuracy: 0.2600\n",
            "Epoch 10/10\n",
            "16/16 [==============================] - 151s 9s/step - loss: 0.5263 - accuracy: 0.2000 - val_loss: 0.5118 - val_accuracy: 0.2600\n"
          ]
        }
      ],
      "source": [
        "vgg16 = VGG16(weights='imagenet', # On utilise les poids du réseau déjà pré-entrainé sur la base de données ImageNet\n",
        "                  include_top=False, # On ne conserve pas la partie Dense du réseau originel\n",
        "                  input_shape=(IMAGE_SIZE, IMAGE_SIZE, 3))\n",
        "model = Sequential()\n",
        "model.add(vgg16)\n",
        "model.add(Flatten())\n",
        "model.add(Dense(256, activation='relu'))\n",
        "model.add(Dense(len(CLASSES),activation=\"sigmoid\"))   # Couche de sortie\n",
        "model.add(Softmax()) \n",
        "\n",
        "model.compile(loss='binary_crossentropy',\n",
        "              optimizer=optimizers.Adam(learning_rate=3e-4),\n",
        "              metrics=['accuracy'])\n",
        "\n",
        "history = model.fit(np.array(X_TRAIN), np.array(Y_TRAIN), \n",
        "                    validation_data=(np.array(X_VAL), np.array(Y_VAL)),\n",
        "                    epochs=10,\n",
        "                    )\n",
        "\n"
      ]
    },
    {
      "cell_type": "code",
      "execution_count": 54,
      "metadata": {},
      "outputs": [
        {
          "data": {
            "image/png": "[encoded data removed]",
            "text/plain": [
              "<Figure size 432x288 with 1 Axes>"
            ]
          },
          "metadata": {
            "needs_background": "light"
          },
          "output_type": "display_data"
        },
        {
          "data": {
            "image/png": "[encoded data removed]",
            "text/plain": [
              "<Figure size 432x288 with 1 Axes>"
            ]
          },
          "metadata": {
            "needs_background": "light"
          },
          "output_type": "display_data"
        },
        {
          "name": "stdout",
          "output_type": "stream",
          "text": [
            "2/2 - 4s - loss: 0.5118 - accuracy: 0.2600\n"
          ]
        },
        {
          "data": {
            "text/plain": [
              "[0.5118093490600586, 0.25999999046325684]"
            ]
          },
          "execution_count": 54,
          "metadata": {},
          "output_type": "execute_result"
        }
      ],
      "source": [
        "plot_training_analysis(history)\n",
        "X_TEST,Y_TEST = [X_TRAIN[i] for i in range((int) (len(X_TRAIN)/10))],[Y_TRAIN[i] for i in range((int) (len(Y_TRAIN)/10))]\n",
        "\n",
        "model.evaluate(np.array(X_TEST),  np.array(Y_TEST), verbose=2)"
      ]
    },
    {
      "cell_type": "markdown",
      "metadata": {},
      "source": [
        "Transfert d'apprentissage avec le réseau MobileNet"
      ]
    },
    {
      "cell_type": "code",
      "execution_count": 55,
      "metadata": {},
      "outputs": [
        {
          "name": "stdout",
          "output_type": "stream",
          "text": [
            "WARNING:tensorflow:`input_shape` is undefined or non-square, or `rows` is not in [96, 128, 160, 192, 224]. Weights for input shape (224, 224) will be loaded as the default.\n",
            "Epoch 1/10\n",
            "16/16 [==============================] - 39s 2s/step - loss: 0.3817 - accuracy: 0.5000 - val_loss: 0.4597 - val_accuracy: 0.5600\n",
            "Epoch 2/10\n",
            "16/16 [==============================] - 36s 2s/step - loss: 0.3412 - accuracy: 0.8380 - val_loss: 0.4824 - val_accuracy: 0.6800\n",
            "Epoch 3/10\n",
            "16/16 [==============================] - 36s 2s/step - loss: 0.3246 - accuracy: 0.9520 - val_loss: 0.4782 - val_accuracy: 0.5200\n",
            "Epoch 4/10\n",
            "16/16 [==============================] - 37s 2s/step - loss: 0.3146 - accuracy: 0.9900 - val_loss: 0.4677 - val_accuracy: 0.3800\n",
            "Epoch 5/10\n",
            "16/16 [==============================] - 37s 2s/step - loss: 0.3180 - accuracy: 0.9540 - val_loss: 0.5052 - val_accuracy: 0.2600\n",
            "Epoch 6/10\n",
            "16/16 [==============================] - 37s 2s/step - loss: 0.3118 - accuracy: 0.9940 - val_loss: 0.5093 - val_accuracy: 0.2600\n",
            "Epoch 7/10\n",
            "16/16 [==============================] - 37s 2s/step - loss: 0.3117 - accuracy: 0.9960 - val_loss: 0.5061 - val_accuracy: 0.2600\n",
            "Epoch 8/10\n",
            "16/16 [==============================] - 37s 2s/step - loss: 0.3101 - accuracy: 1.0000 - val_loss: 0.4898 - val_accuracy: 0.3200\n",
            "Epoch 9/10\n",
            "16/16 [==============================] - 37s 2s/step - loss: 0.3104 - accuracy: 1.0000 - val_loss: 0.4965 - val_accuracy: 0.2600\n",
            "Epoch 10/10\n",
            "16/16 [==============================] - 37s 2s/step - loss: 0.3126 - accuracy: 0.9900 - val_loss: 0.4969 - val_accuracy: 0.3200\n"
          ]
        },
        {
          "data": {
            "image/png": "[encoded data removed]",
            "text/plain": [
              "<Figure size 432x288 with 1 Axes>"
            ]
          },
          "metadata": {
            "needs_background": "light"
          },
          "output_type": "display_data"
        },
        {
          "data": {
            "image/png": "[encoded data removed]",
            "text/plain": [
              "<Figure size 432x288 with 1 Axes>"
            ]
          },
          "metadata": {
            "needs_background": "light"
          },
          "output_type": "display_data"
        },
        {
          "name": "stdout",
          "output_type": "stream",
          "text": [
            "2/2 - 1s - loss: 0.4969 - accuracy: 0.3200\n"
          ]
        },
        {
          "data": {
            "text/plain": [
              "[0.49689850211143494, 0.3199999928474426]"
            ]
          },
          "execution_count": 55,
          "metadata": {},
          "output_type": "execute_result"
        }
      ],
      "source": [
        "mobilenet = MobileNetV2(input_shape=(IMAGE_SIZE, IMAGE_SIZE, 3),\n",
        "                                               include_top=False,\n",
        "                                               weights='imagenet')\n",
        "model = Sequential()\n",
        "model.add(mobilenet)\n",
        "model.add(Flatten())\n",
        "model.add(Dense(256, activation='relu'))\n",
        "model.add(Dense(len(CLASSES),activation=\"sigmoid\"))   # Couche de sortie\n",
        "model.add(Softmax()) \n",
        "\n",
        "model.compile(loss='binary_crossentropy',\n",
        "              optimizer=optimizers.Adam(learning_rate=3e-4),\n",
        "              metrics=['accuracy'])\n",
        "\n",
        "history = model.fit(np.array(X_TRAIN), np.array(Y_TRAIN), \n",
        "                    validation_data=(np.array(X_VAL), np.array(Y_VAL)),\n",
        "                    epochs=10,\n",
        "                    )\n",
        "plot_training_analysis(history)\n",
        "X_TEST,Y_TEST = [X_TRAIN[i] for i in range((int) (len(X_TRAIN)/10))],[Y_TRAIN[i] for i in range((int) (len(Y_TRAIN)/10))]\n",
        "\n",
        "model.evaluate(np.array(X_TEST),  np.array(Y_TEST), verbose=2)"
      ]
    }
  ],
  "metadata": {
    "colab": {
      "authorship_tag": "ABX9TyN1By+Pkh90ejLO+t7PikYu",
      "collapsed_sections": [],
      "include_colab_link": true,
      "name": "Untitled1.ipynb",
      "provenance": []
    },
    "interpreter": {
      "hash": "4ae078a89eacca6d32693ccc7dd04a1d4a02d4b634fc3f4e565fb43bbb3e5e55"
    },
    "kernelspec": {
      "display_name": "Python 3.9.13 64-bit (windows store)",
      "language": "python",
      "name": "python3"
    },
    "language_info": {
      "codemirror_mode": {
        "name": "ipython",
        "version": 3
      },
      "file_extension": ".py",
      "mimetype": "text/x-python",
      "name": "python",
      "nbconvert_exporter": "python",
      "pygments_lexer": "ipython3",
      "version": "3.9.13"
    }
  },
  "nbformat": 4,
  "nbformat_minor": 0
}
