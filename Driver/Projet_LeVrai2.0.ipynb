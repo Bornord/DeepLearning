{
  "cells": [
    {
      "cell_type": "markdown",
      "metadata": {
        "colab_type": "text",
        "id": "view-in-github"
      },
      "source": [
        "<a href=\"https://colab.research.google.com/github/Bornord/DeepLearning/blob/main/Projet_LeVrai2.0.ipynb\" target=\"_parent\"><img src=\"https://colab.research.google.com/assets/colab-badge.svg\" alt=\"Open In Colab\"/></a>"
      ]
    },
    {
      "cell_type": "markdown",
      "metadata": {
        "id": "lg48JBWoBk3B"
      },
      "source": [
        "PROJET CLASSIFICATION"
      ]
    },
    {
      "cell_type": "code",
      "execution_count": 1,
      "metadata": {},
      "outputs": [],
      "source": [
        "IMAGE_SIZE = 256\n",
        "CLASSES = ['akina','antoine','enguerran','skander','willem']\n",
        "\n",
        "import glob\n",
        "import PIL\n",
        "from PIL import Image\n",
        "import numpy as np\n",
        "import os\n",
        "\n",
        "def load_data(path, classes, image_size=64):\n",
        "\n",
        "  # Liste les fichiers présents dans le dossier path\n",
        "  tmp = 0\n",
        "  for name in classes : \n",
        "      folder = path + name + '-image-files/'\n",
        "      file_path =[folder+f for f in os.listdir(folder)]\n",
        "      tmp = tmp + len(file_path)\n",
        "\n",
        "\n",
        "  x = np.zeros((tmp, image_size, image_size, 4))\n",
        "  y = np.zeros((tmp, len(classes)))\n",
        "  for name in classes : \n",
        "      folder = path + name + '-image-files/'\n",
        "\n",
        "      file_path =[folder+f for f in os.listdir(folder)]\n",
        "      # Initialise les structures de données\n",
        "      nb_file = len(file_path)\n",
        "      for i in range(nb_file):\n",
        "      # Lecture de l'image\n",
        "          img = Image.open(file_path[i])\n",
        "          # Mise à l'échelle de l'image\n",
        "          img = img.resize((image_size,image_size), Image.ANTIALIAS)\n",
        "          # Remplissage de la variable x\n",
        "          x[classes.index(name)*nb_file + i] = np.asarray(img)\n",
        "\n",
        "          #img_path_split = file_path[i].split('/')\n",
        "          #img_name_split = img_path_split[-1].split('.')\n",
        "          class_label = classes.index(name)\n",
        "      \n",
        "          y[classes.index(name)*nb_file + i] = [0]*len(classes)\n",
        "          y[classes.index(name)*nb_file + i][class_label] = 1\n",
        "\n",
        "  return x, y\n",
        "\n",
        "X_TRAIN, Y_TRAIN = load_data('../AudioCut/ImagesResultats/', CLASSES, image_size=IMAGE_SIZE)\n",
        "#x_val, y_val = load_data('./iam/tp3/validation/*', CLASSES, image_size=IMAGE_SIZE)\n",
        "#x_test, y_test = load_data('./iam/tp3/test/*', CLASSES, image_size=IMAGE_SIZE)\n",
        "\n",
        "# Normalisation des entrées via une division par 255 des valeurs de pixel.\n",
        "X_TRAIN = X_TRAIN/255\n",
        "import random\n",
        "x_train_indexes = [i for i in range(len(X_TRAIN))]\n",
        "random.shuffle(x_train_indexes)\n",
        "\n",
        "X_TRAIN, Y_TRAIN = [X_TRAIN[i] for i in x_train_indexes],[Y_TRAIN[i] for i in x_train_indexes]\n",
        "X_VAL,Y_VAL = [X_TRAIN[i] for i in range((int) (len(X_TRAIN)/10))],[Y_TRAIN[i] for i in range((int) (len(Y_TRAIN)/10))]\n",
        "#x_val = x_val/255\n",
        "#x_test = x_test/255"
      ]
    },
    {
      "cell_type": "code",
      "execution_count": 2,
      "metadata": {
        "id": "EK5VpgDHBrba"
      },
      "outputs": [],
      "source": [
        "#!git clone https://github.com/Bornord/DeepLearning.git\n",
        "#path = \"./iam/tp3/\""
      ]
    },
    {
      "cell_type": "code",
      "execution_count": 21,
      "metadata": {},
      "outputs": [
        {
          "name": "stdout",
          "output_type": "stream",
          "text": [
            "Model: \"sequential_10\"\n",
            "_________________________________________________________________\n",
            "Layer (type)                 Output Shape              Param #   \n",
            "=================================================================\n",
            "conv2d_12 (Conv2D)           (None, 256, 256, 32)      1184      \n",
            "_________________________________________________________________\n",
            "max_pooling2d_12 (MaxPooling (None, 128, 128, 32)      0         \n",
            "_________________________________________________________________\n",
            "conv2d_13 (Conv2D)           (None, 128, 128, 64)      18496     \n",
            "_________________________________________________________________\n",
            "max_pooling2d_13 (MaxPooling (None, 64, 64, 64)        0         \n",
            "_________________________________________________________________\n",
            "conv2d_14 (Conv2D)           (None, 64, 64, 96)        55392     \n",
            "_________________________________________________________________\n",
            "max_pooling2d_14 (MaxPooling (None, 32, 32, 96)        0         \n",
            "_________________________________________________________________\n",
            "conv2d_15 (Conv2D)           (None, 32, 32, 128)       110720    \n",
            "_________________________________________________________________\n",
            "max_pooling2d_15 (MaxPooling (None, 16, 16, 128)       0         \n",
            "_________________________________________________________________\n",
            "flatten_3 (Flatten)          (None, 32768)             0         \n",
            "_________________________________________________________________\n",
            "dense_6 (Dense)              (None, 512)               16777728  \n",
            "_________________________________________________________________\n",
            "dense_7 (Dense)              (None, 5)                 2565      \n",
            "_________________________________________________________________\n",
            "softmax_9 (Softmax)          (None, 5)                 0         \n",
            "=================================================================\n",
            "Total params: 16,966,085\n",
            "Trainable params: 16,966,085\n",
            "Non-trainable params: 0\n",
            "_________________________________________________________________\n",
            "5\n",
            "Epoch 1/10\n",
            "16/16 [==============================] - 16s 972ms/step - loss: 0.4969 - accuracy: 0.3500 - val_loss: 0.4588 - val_accuracy: 0.6800\n",
            "Epoch 2/10\n",
            "16/16 [==============================] - 15s 961ms/step - loss: 0.4070 - accuracy: 0.7240 - val_loss: 0.3648 - val_accuracy: 0.9600\n",
            "Epoch 3/10\n",
            "16/16 [==============================] - 15s 962ms/step - loss: 0.3696 - accuracy: 0.7920 - val_loss: 0.3506 - val_accuracy: 0.7800\n",
            "Epoch 4/10\n",
            "16/16 [==============================] - 16s 974ms/step - loss: 0.3483 - accuracy: 0.7640 - val_loss: 0.3372 - val_accuracy: 0.7800\n",
            "Epoch 5/10\n",
            "16/16 [==============================] - 15s 958ms/step - loss: 0.3327 - accuracy: 0.8040 - val_loss: 0.3358 - val_accuracy: 1.0000\n",
            "Epoch 6/10\n",
            "16/16 [==============================] - 15s 954ms/step - loss: 0.3364 - accuracy: 0.8860 - val_loss: 0.3257 - val_accuracy: 1.0000\n",
            "Epoch 7/10\n",
            "16/16 [==============================] - 15s 947ms/step - loss: 0.3321 - accuracy: 0.8320 - val_loss: 0.3247 - val_accuracy: 0.8200\n",
            "Epoch 8/10\n",
            "16/16 [==============================] - 16s 971ms/step - loss: 0.3265 - accuracy: 0.8180 - val_loss: 0.3226 - val_accuracy: 0.8200\n",
            "Epoch 9/10\n",
            "16/16 [==============================] - 16s 1000ms/step - loss: 0.3255 - accuracy: 0.8200 - val_loss: 0.3230 - val_accuracy: 0.8200\n",
            "Epoch 10/10\n",
            "16/16 [==============================] - 16s 995ms/step - loss: 0.3243 - accuracy: 0.8360 - val_loss: 0.3226 - val_accuracy: 0.8200\n"
          ]
        }
      ],
      "source": [
        "import tensorflow\n",
        "from tensorflow.keras.models import Sequential\n",
        "from tensorflow.keras.layers import Softmax\n",
        "from tensorflow.keras.layers import Dense\n",
        "from tensorflow.keras.layers import Conv2D\n",
        "from tensorflow.keras.layers import Input\n",
        "from tensorflow.keras.layers import MaxPooling2D\n",
        "from tensorflow.keras.layers import Flatten\n",
        "from tensorflow.keras.losses import SparseCategoricalCrossentropy\n",
        "from tensorflow.keras import optimizers\n",
        "model = Sequential()\n",
        "# A COMPLETER\"\n",
        "\n",
        "model.add(Input(X_TRAIN[0].shape))\n",
        "model.add(Conv2D(32, (3, 3), padding = 'same', activation = 'relu', strides = 1, input_shape = (64, 64, 3)))\n",
        "model.add(MaxPooling2D(pool_size=(2, 2), input_shape = (64, 64, 3), padding = 'same'))\n",
        "\n",
        "model.add(Conv2D(64, (3, 3), padding = 'same', activation = 'relu', strides = 1, input_shape = (64, 64, 3)))\n",
        "model.add(MaxPooling2D(pool_size=(2, 2), input_shape = (64, 64, 3), padding = 'same'))\n",
        "model.add(Conv2D(96, (3, 3), padding = 'same', activation = 'relu', strides = 1, input_shape = (64, 64, 3)))\n",
        "model.add(MaxPooling2D(pool_size=(2, 2), input_shape = (64, 64, 3), padding = 'same'))\n",
        "model.add(Conv2D(128, (3, 3), padding = 'same', activation = 'relu', strides = 1, input_shape = (64, 64, 3)))\n",
        "model.add(MaxPooling2D(pool_size=(2, 2), input_shape = (64, 64, 3), padding = 'same'))\n",
        "\n",
        "model.add(Flatten())    # \"Mise à plat\" (vectorisation) du tenseur pour permettre de la connecter à une couche dense  \n",
        "model.add(Dense(512, activation = 'relu', input_dim = 2))   # Couche dense, à 512 neurones\n",
        "model.add(Dense(len(CLASSES),activation=\"sigmoid\"))   # Couche de sortie\n",
        "model.add(Softmax()) \n",
        "\n",
        "model.summary()\n",
        "\n",
        "# AJOUTER EGALEMENT LA FONCTION DE COUT\n",
        "\n",
        "model.compile(loss='binary_crossentropy',\n",
        "              optimizer=optimizers.Adam(learning_rate=3e-4),\n",
        "              metrics=['accuracy'])\n",
        "\n",
        "\n",
        "# TODO\n",
        "print(len(Y_TRAIN[0]))\n",
        "history = model.fit(np.array(X_TRAIN), np.array(Y_TRAIN), \n",
        "                    validation_data=(np.array(X_VAL), np.array(Y_VAL)),\n",
        "                    epochs=10,\n",
        "                    )\n",
        "\n",
        "#Y_test = model.\n",
        "\n"
      ]
    },
    {
      "cell_type": "code",
      "execution_count": 30,
      "metadata": {},
      "outputs": [
        {
          "name": "stdout",
          "output_type": "stream",
          "text": [
            "2/2 - 0s - loss: 0.3226 - accuracy: 0.8200\n",
            "[[0.14886032 0.14884523 0.14884609 0.14884523 0.40460324]\n",
            " [0.14886905 0.14884333 0.1488462  0.14884333 0.40459803]\n",
            " [0.14885436 0.14884384 0.14885844 0.14884384 0.4045995 ]\n",
            " [0.14885582 0.14884615 0.14884615 0.40460566 0.14884615]\n",
            " [0.1489603  0.1488285  0.1488285  0.40455422 0.1488285 ]\n",
            " [0.14886418 0.1488441  0.14884743 0.1488441  0.40460017]\n",
            " [0.40392366 0.14896987 0.14916645 0.14896987 0.14897019]\n",
            " [0.1488515  0.14884935 0.40460014 0.14884935 0.14884962]\n",
            " [0.4045917  0.14884858 0.14884904 0.14884858 0.14886203]\n",
            " [0.40457332 0.14884946 0.14885609 0.14884946 0.14887157]\n",
            " [0.40451628 0.1488585  0.14890692 0.1488585  0.1488598 ]\n",
            " [0.14886644 0.14884384 0.14884643 0.14884384 0.4045995 ]\n",
            " [0.11855154 0.32209215 0.3222546  0.11855084 0.11855084]\n",
            " [0.14884971 0.14885178 0.40460584 0.14884633 0.14884634]\n",
            " [0.1488623  0.1488437  0.1488512  0.1488437  0.4045991 ]\n",
            " [0.40459073 0.1488484  0.14885035 0.1488484  0.14886208]\n",
            " [0.11854014 0.32215494 0.32222503 0.11853997 0.11853997]\n",
            " [0.11855244 0.32208386 0.3222589  0.11855242 0.11855242]\n",
            " [0.14885987 0.14884716 0.40460232 0.14884521 0.1488453 ]\n",
            " [0.14886375 0.14884385 0.14884897 0.14884385 0.40459955]\n",
            " [0.11926145 0.3218041  0.32201153 0.11846145 0.11846145]\n",
            " [0.40460354 0.14884844 0.14884882 0.14884844 0.14885071]\n",
            " [0.14884707 0.14884631 0.40459424 0.1488449  0.14886743]\n",
            " [0.40460306 0.14884768 0.14884874 0.14884768 0.1488529 ]\n",
            " [0.40460935 0.14884754 0.14884754 0.14884807 0.14884754]\n",
            " [0.14890312 0.14883783 0.14883806 0.14883783 0.40458316]\n",
            " [0.14884764 0.14884758 0.14884758 0.40460968 0.14884758]\n",
            " [0.14884812 0.14884822 0.40460786 0.1488479  0.14884788]\n",
            " [0.40460643 0.14884767 0.1488477  0.14884767 0.14885053]\n",
            " [0.14886211 0.14884351 0.1488523  0.14884351 0.4045986 ]\n",
            " [0.11853336 0.32219294 0.32220706 0.11853336 0.11853336]\n",
            " [0.1496465  0.14933838 0.14933838 0.4023383  0.14933838]\n",
            " [0.11853475 0.32218605 0.3222102  0.11853451 0.11853451]\n",
            " [0.1488585  0.14884531 0.14884736 0.14884531 0.4046035 ]\n",
            " [0.4041829  0.1488162  0.1493684  0.1488162  0.14881626]\n",
            " [0.14884979 0.14884773 0.14884779 0.40460697 0.14884773]\n",
            " [0.4044722  0.14884609 0.1489846  0.14884609 0.14885104]\n",
            " [0.40457997 0.14883976 0.1488407  0.14883976 0.14889978]\n",
            " [0.14884864 0.14884825 0.4046087  0.14884724 0.14884724]\n",
            " [0.4046092  0.14884755 0.14884758 0.14884755 0.14884806]\n",
            " [0.40459684 0.1488481  0.1488566  0.1488481  0.1488503 ]\n",
            " [0.14884898 0.14884734 0.14884734 0.404609   0.14884734]\n",
            " [0.11855713 0.32205722 0.3222716  0.1185571  0.1185571 ]\n",
            " [0.14885017 0.14884883 0.40460458 0.1488482  0.1488482 ]\n",
            " [0.14934647 0.14925104 0.14925104 0.40290043 0.14925104]\n",
            " [0.14885454 0.1488498  0.40459618 0.14884976 0.14884976]\n",
            " [0.11855068 0.3220949  0.3222535  0.11855044 0.11855044]\n",
            " [0.11853252 0.32219774 0.3222048  0.11853252 0.11853252]\n",
            " [0.14887278 0.14883807 0.14887063 0.14883807 0.40458038]\n",
            " [0.14885275 0.14884861 0.40460584 0.14884628 0.1488464 ]]\n",
            "[array([0., 0., 0., 0., 1.]), array([0., 0., 0., 0., 1.]), array([0., 0., 0., 0., 1.]), array([0., 0., 0., 1., 0.]), array([0., 0., 0., 1., 0.]), array([0., 0., 0., 0., 1.]), array([1., 0., 0., 0., 0.]), array([0., 0., 1., 0., 0.]), array([1., 0., 0., 0., 0.]), array([1., 0., 0., 0., 0.]), array([1., 0., 0., 0., 0.]), array([0., 0., 0., 0., 1.]), array([0., 1., 0., 0., 0.]), array([0., 0., 1., 0., 0.]), array([0., 0., 0., 0., 1.]), array([1., 0., 0., 0., 0.]), array([0., 1., 0., 0., 0.]), array([0., 1., 0., 0., 0.]), array([0., 0., 1., 0., 0.]), array([0., 0., 0., 0., 1.]), array([0., 1., 0., 0., 0.]), array([1., 0., 0., 0., 0.]), array([0., 0., 1., 0., 0.]), array([1., 0., 0., 0., 0.]), array([1., 0., 0., 0., 0.]), array([0., 0., 0., 0., 1.]), array([0., 0., 0., 1., 0.]), array([0., 0., 1., 0., 0.]), array([1., 0., 0., 0., 0.]), array([0., 0., 0., 0., 1.]), array([0., 1., 0., 0., 0.]), array([0., 0., 0., 1., 0.]), array([0., 1., 0., 0., 0.]), array([0., 0., 0., 0., 1.]), array([1., 0., 0., 0., 0.]), array([0., 0., 0., 1., 0.]), array([1., 0., 0., 0., 0.]), array([1., 0., 0., 0., 0.]), array([0., 0., 1., 0., 0.]), array([1., 0., 0., 0., 0.]), array([1., 0., 0., 0., 0.]), array([0., 0., 0., 1., 0.]), array([0., 1., 0., 0., 0.]), array([0., 0., 1., 0., 0.]), array([0., 0., 0., 1., 0.]), array([0., 0., 1., 0., 0.]), array([0., 1., 0., 0., 0.]), array([0., 1., 0., 0., 0.]), array([0., 0., 0., 0., 1.]), array([0., 0., 1., 0., 0.])]\n"
          ]
        }
      ],
      "source": [
        "X_TEST,Y_TEST = [X_TRAIN[i] for i in range((int) (len(X_TRAIN)/10))],[Y_TRAIN[i] for i in range((int) (len(Y_TRAIN)/10))]\n",
        "\n",
        "model.evaluate(np.array(X_TEST),  np.array(Y_TEST), verbose=2)\n",
        "#probability_model = Sequential([model,Softmax(len(CLASSES))])\n",
        "print(model.predict(np.array(X_TEST)))\n",
        "print(Y_TEST)"
      ]
    },
    {
      "cell_type": "code",
      "execution_count": 31,
      "metadata": {},
      "outputs": [
        {
          "data": {
            "image/png": "[encoded data removed]",
            "text/plain": [
              "<Figure size 432x288 with 1 Axes>"
            ]
          },
          "metadata": {
            "needs_background": "light"
          },
          "output_type": "display_data"
        },
        {
          "data": {
            "image/png": "[encoded data removed]",
            "text/plain": [
              "<Figure size 432x288 with 1 Axes>"
            ]
          },
          "metadata": {
            "needs_background": "light"
          },
          "output_type": "display_data"
        }
      ],
      "source": [
        "import matplotlib.pyplot as plt \n",
        "\n",
        "def plot_training_analysis(history):\n",
        "  acc = history.history['accuracy']\n",
        "  val_acc = history.history['val_accuracy']\n",
        "  loss = history.history['loss']\n",
        "  val_loss = history.history['val_loss']\n",
        "\n",
        "  epochs = range(len(loss))\n",
        "\n",
        "  plt.plot(epochs, acc, 'b', linestyle=\"--\",label='Training MAE')\n",
        "  plt.plot(epochs, val_acc, 'g', label='Validation MAE')\n",
        "  plt.title('Training and validation MAE')\n",
        "  plt.legend()\n",
        "\n",
        "  plt.figure()\n",
        "\n",
        "  plt.plot(epochs, loss, 'b', linestyle=\"--\",label='Training loss')\n",
        "  plt.plot(epochs, val_loss,'g', label='Validation loss')\n",
        "  plt.title('Training and validation loss')\n",
        "  plt.legend()\n",
        "\n",
        "  plt.show()\n",
        "\n",
        "plot_training_analysis(history)\n"
      ]
    },
    {
      "cell_type": "markdown",
      "metadata": {},
      "source": [
        "# Transfert d'apprentissage\n",
        "\n"
      ]
    },
    {
      "cell_type": "code",
      "execution_count": 32,
      "metadata": {},
      "outputs": [],
      "source": [
        "from tensorflow.keras.applications import VGG16\n",
        "\n",
        "# TODO \n",
        "conv_base = VGG16(weights='imagenet', # On utilise les poids du réseau déjà pré-entrainé sur la base de données ImageNet\n",
        "                  include_top=False, # On ne conserve pas la partie Dense du réseau originel\n",
        "                  input_shape=(IMAGE_SIZE, IMAGE_SIZE, 3))"
      ]
    },
    {
      "cell_type": "code",
      "execution_count": 33,
      "metadata": {},
      "outputs": [
        {
          "ename": "NameError",
          "evalue": "name 'x_train' is not defined",
          "output_type": "error",
          "traceback": [
            "\u001b[1;31m---------------------------------------------------------------------------\u001b[0m",
            "\u001b[1;31mNameError\u001b[0m                                 Traceback (most recent call last)",
            "\u001b[1;32m~\\AppData\\Local\\Temp\\ipykernel_17708\\4139681537.py\u001b[0m in \u001b[0;36m<module>\u001b[1;34m\u001b[0m\n\u001b[1;32m----> 1\u001b[1;33m \u001b[0mtrain_features\u001b[0m \u001b[1;33m=\u001b[0m \u001b[0mconv_base\u001b[0m\u001b[1;33m.\u001b[0m\u001b[0mpredict\u001b[0m\u001b[1;33m(\u001b[0m\u001b[0mx_train\u001b[0m\u001b[1;33m)\u001b[0m\u001b[1;33m\u001b[0m\u001b[1;33m\u001b[0m\u001b[0m\n\u001b[0m\u001b[0;32m      2\u001b[0m \u001b[0mtrain_features\u001b[0m \u001b[1;33m=\u001b[0m \u001b[0mnp\u001b[0m\u001b[1;33m.\u001b[0m\u001b[0mreshape\u001b[0m\u001b[1;33m(\u001b[0m\u001b[0mtrain_features\u001b[0m\u001b[1;33m,\u001b[0m\u001b[1;33m(\u001b[0m\u001b[0mtrain_features\u001b[0m\u001b[1;33m.\u001b[0m\u001b[0mshape\u001b[0m\u001b[1;33m[\u001b[0m\u001b[1;36m0\u001b[0m\u001b[1;33m]\u001b[0m\u001b[1;33m,\u001b[0m\u001b[1;36m2\u001b[0m\u001b[1;33m*\u001b[0m\u001b[1;36m2\u001b[0m\u001b[1;33m*\u001b[0m\u001b[1;36m512\u001b[0m\u001b[1;33m)\u001b[0m\u001b[1;33m)\u001b[0m\u001b[1;33m\u001b[0m\u001b[1;33m\u001b[0m\u001b[0m\n\u001b[0;32m      3\u001b[0m \u001b[1;33m\u001b[0m\u001b[0m\n\u001b[0;32m      4\u001b[0m \u001b[0mval_features\u001b[0m \u001b[1;33m=\u001b[0m \u001b[0mconv_base\u001b[0m\u001b[1;33m.\u001b[0m\u001b[0mpredict\u001b[0m\u001b[1;33m(\u001b[0m\u001b[0mx_val\u001b[0m\u001b[1;33m)\u001b[0m\u001b[1;33m\u001b[0m\u001b[1;33m\u001b[0m\u001b[0m\n\u001b[0;32m      5\u001b[0m \u001b[0mval_features\u001b[0m \u001b[1;33m=\u001b[0m \u001b[0mnp\u001b[0m\u001b[1;33m.\u001b[0m\u001b[0mreshape\u001b[0m\u001b[1;33m(\u001b[0m\u001b[0mval_features\u001b[0m\u001b[1;33m,\u001b[0m\u001b[1;33m(\u001b[0m\u001b[0mval_features\u001b[0m\u001b[1;33m.\u001b[0m\u001b[0mshape\u001b[0m\u001b[1;33m[\u001b[0m\u001b[1;36m0\u001b[0m\u001b[1;33m]\u001b[0m\u001b[1;33m,\u001b[0m\u001b[1;36m2\u001b[0m\u001b[1;33m*\u001b[0m\u001b[1;36m2\u001b[0m\u001b[1;33m*\u001b[0m\u001b[1;36m512\u001b[0m\u001b[1;33m)\u001b[0m\u001b[1;33m)\u001b[0m\u001b[1;33m\u001b[0m\u001b[1;33m\u001b[0m\u001b[0m\n",
            "\u001b[1;31mNameError\u001b[0m: name 'x_train' is not defined"
          ]
        }
      ],
      "source": [
        "train_features = conv_base.predict(x_train)\n",
        "train_features = np.reshape(train_features,(train_features.shape[0],2*2*512))\n",
        "\n",
        "val_features = conv_base.predict(x_val)\n",
        "val_features = np.reshape(val_features,(val_features.shape[0],2*2*512))"
      ]
    },
    {
      "cell_type": "code",
      "execution_count": null,
      "metadata": {},
      "outputs": [],
      "source": [
        "# TODO \n",
        "model = Sequential()\n",
        " \n",
        "model.add(Dense(256, activation = 'relu', input_shape=(64, 64, 3)))   # Couche dense\n",
        "model.add(Dense(1, activation = 'sigmoid'))   # Couche de sortie\n",
        "\n",
        "model.summary()\n",
        "\n",
        "# AJOUTER EGALEMENT LA FONCTION DE COUT\n",
        "model.compile(optimizer=optimizers.Adam(lr=3e-4),\n",
        "              loss='binary_crossentropy',\n",
        "              metrics=['accuracy'])\n",
        "\n",
        "# COMPLETER AVEC LES TENSEURS SUR LESQUELS EFFECTUER L'APPRENTISSAGE\n",
        "history = model.fit(train_features,\n",
        "                    epochs=50,\n",
        "                    batch_size=16,\n",
        "                    validation_data=val_features)"
      ]
    },
    {
      "cell_type": "code",
      "execution_count": null,
      "metadata": {},
      "outputs": [],
      "source": [
        "model = Sequential()\n",
        "model.add(conv_base)\n",
        "model.add(layers.Flatten())\n",
        "model.add(layers.Dense(256, activation='relu'))\n",
        "model.add(layers.Dense(1, activation='sigmoid'))"
      ]
    },
    {
      "cell_type": "code",
      "execution_count": null,
      "metadata": {},
      "outputs": [],
      "source": [
        "model.compile(loss='binary_crossentropy',\n",
        "              optimizer=optimizers.Adam(learning_rate=3e-4),\n",
        "              metrics=['accuracy'])\n",
        "\n",
        "history = model.fit(train_datagen.flow(x_train, y_train, batch_size=10), \n",
        "                    validation_data=(x_val, y_val),\n",
        "                    epochs=10,\n",
        "                    )"
      ]
    }
  ],
  "metadata": {
    "colab": {
      "authorship_tag": "ABX9TyN1By+Pkh90ejLO+t7PikYu",
      "collapsed_sections": [],
      "include_colab_link": true,
      "name": "Untitled1.ipynb",
      "provenance": []
    },
    "kernelspec": {
      "display_name": "Python 3",
      "name": "python3"
    },
    "language_info": {
      "codemirror_mode": {
        "name": "ipython",
        "version": 3
      },
      "file_extension": ".py",
      "mimetype": "text/x-python",
      "name": "python",
      "nbconvert_exporter": "python",
      "pygments_lexer": "ipython3",
      "version": "3.9.12"
    }
  },
  "nbformat": 4,
  "nbformat_minor": 0
}
